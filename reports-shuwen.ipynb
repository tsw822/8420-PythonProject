{
 "cells": [
  {
   "cell_type": "code",
   "execution_count": 2,
   "metadata": {},
   "outputs": [],
   "source": [
    "import sqlite3\n",
    "import pandas as pd\n",
    "conn = sqlite3.connect('mydb.db')\n",
    "cur = conn.cursor()"
   ]
  },
  {
   "cell_type": "code",
   "execution_count": 3,
   "metadata": {},
   "outputs": [],
   "source": [
    "orders = cur.execute('''SELECT * FROM order_db''')\n",
    "orders_df = pd.DataFrame(orders)\n",
    "orders_df.columns = ['order_id','user_name','product','shipment','pick_location','dest_location','ship_date','create_date']"
   ]
  },
  {
   "cell_type": "code",
   "execution_count": 4,
   "metadata": {},
   "outputs": [
    {
     "data": {
      "text/html": [
       "<div>\n",
       "<style scoped>\n",
       "    .dataframe tbody tr th:only-of-type {\n",
       "        vertical-align: middle;\n",
       "    }\n",
       "\n",
       "    .dataframe tbody tr th {\n",
       "        vertical-align: top;\n",
       "    }\n",
       "\n",
       "    .dataframe thead th {\n",
       "        text-align: right;\n",
       "    }\n",
       "</style>\n",
       "<table border=\"1\" class=\"dataframe\">\n",
       "  <thead>\n",
       "    <tr style=\"text-align: right;\">\n",
       "      <th></th>\n",
       "      <th>order_id</th>\n",
       "      <th>user_name</th>\n",
       "      <th>product</th>\n",
       "      <th>shipment</th>\n",
       "      <th>pick_location</th>\n",
       "      <th>dest_location</th>\n",
       "      <th>ship_date</th>\n",
       "      <th>create_date</th>\n",
       "    </tr>\n",
       "  </thead>\n",
       "  <tbody>\n",
       "    <tr>\n",
       "      <th>0</th>\n",
       "      <td>7</td>\n",
       "      <td>kardia</td>\n",
       "      <td>table</td>\n",
       "      <td>ship</td>\n",
       "      <td>China</td>\n",
       "      <td>Canada</td>\n",
       "      <td>2021-12-19</td>\n",
       "      <td>2021-12-14</td>\n",
       "    </tr>\n",
       "    <tr>\n",
       "      <th>1</th>\n",
       "      <td>8</td>\n",
       "      <td>kardia</td>\n",
       "      <td>Sofa</td>\n",
       "      <td>Train</td>\n",
       "      <td>U.S.A</td>\n",
       "      <td>Canada</td>\n",
       "      <td>2021-12-19</td>\n",
       "      <td>2021-12-14</td>\n",
       "    </tr>\n",
       "    <tr>\n",
       "      <th>2</th>\n",
       "      <td>9</td>\n",
       "      <td>xiong</td>\n",
       "      <td>Table</td>\n",
       "      <td>Ship</td>\n",
       "      <td>India</td>\n",
       "      <td>China</td>\n",
       "      <td>2021-12-24</td>\n",
       "      <td>2021-12-14</td>\n",
       "    </tr>\n",
       "    <tr>\n",
       "      <th>3</th>\n",
       "      <td>10</td>\n",
       "      <td>xiong</td>\n",
       "      <td>Sofa</td>\n",
       "      <td>Truck</td>\n",
       "      <td>China</td>\n",
       "      <td>China</td>\n",
       "      <td>2021-12-14</td>\n",
       "      <td>2021-12-14</td>\n",
       "    </tr>\n",
       "    <tr>\n",
       "      <th>4</th>\n",
       "      <td>11</td>\n",
       "      <td>xiong</td>\n",
       "      <td>Xerox machine</td>\n",
       "      <td>Ship</td>\n",
       "      <td>U.S.A</td>\n",
       "      <td>U.S.A</td>\n",
       "      <td>2021-12-14</td>\n",
       "      <td>2021-12-14</td>\n",
       "    </tr>\n",
       "    <tr>\n",
       "      <th>5</th>\n",
       "      <td>12</td>\n",
       "      <td>xiong</td>\n",
       "      <td>Sofa</td>\n",
       "      <td>Ship</td>\n",
       "      <td>U.S.A</td>\n",
       "      <td>U.S.A</td>\n",
       "      <td>2021-12-16</td>\n",
       "      <td>2021-12-14</td>\n",
       "    </tr>\n",
       "    <tr>\n",
       "      <th>6</th>\n",
       "      <td>13</td>\n",
       "      <td>xiong</td>\n",
       "      <td>Table</td>\n",
       "      <td>Flight</td>\n",
       "      <td>Canada</td>\n",
       "      <td>Canada</td>\n",
       "      <td>2021-12-15</td>\n",
       "      <td>2021-12-14</td>\n",
       "    </tr>\n",
       "    <tr>\n",
       "      <th>7</th>\n",
       "      <td>14</td>\n",
       "      <td>tan</td>\n",
       "      <td>Table</td>\n",
       "      <td>Flight</td>\n",
       "      <td>Canada</td>\n",
       "      <td>Canada</td>\n",
       "      <td>2021-12-15</td>\n",
       "      <td>2021-12-14</td>\n",
       "    </tr>\n",
       "    <tr>\n",
       "      <th>8</th>\n",
       "      <td>15</td>\n",
       "      <td>tan</td>\n",
       "      <td>Xerox machine</td>\n",
       "      <td>Ship</td>\n",
       "      <td>U.S.A</td>\n",
       "      <td>U.S.A</td>\n",
       "      <td>2021-12-16</td>\n",
       "      <td>2021-12-14</td>\n",
       "    </tr>\n",
       "    <tr>\n",
       "      <th>9</th>\n",
       "      <td>16</td>\n",
       "      <td>tan1</td>\n",
       "      <td>Table</td>\n",
       "      <td>Flight</td>\n",
       "      <td>Canada</td>\n",
       "      <td>Canada</td>\n",
       "      <td>2021-12-15</td>\n",
       "      <td>2021-12-14</td>\n",
       "    </tr>\n",
       "    <tr>\n",
       "      <th>10</th>\n",
       "      <td>17</td>\n",
       "      <td>xiong</td>\n",
       "      <td>Xerox machine</td>\n",
       "      <td>Ship</td>\n",
       "      <td>U.S.A</td>\n",
       "      <td>U.S.A</td>\n",
       "      <td>2021-12-16</td>\n",
       "      <td>2021-12-14</td>\n",
       "    </tr>\n",
       "    <tr>\n",
       "      <th>11</th>\n",
       "      <td>18</td>\n",
       "      <td>KAN</td>\n",
       "      <td>Table</td>\n",
       "      <td>Flight</td>\n",
       "      <td>Canada</td>\n",
       "      <td>U.S.A</td>\n",
       "      <td>2021-12-20</td>\n",
       "      <td>2021-12-14</td>\n",
       "    </tr>\n",
       "    <tr>\n",
       "      <th>12</th>\n",
       "      <td>19</td>\n",
       "      <td>KAN</td>\n",
       "      <td>Xerox machine</td>\n",
       "      <td>Ship</td>\n",
       "      <td>China</td>\n",
       "      <td>U.S.A</td>\n",
       "      <td>2021-12-20</td>\n",
       "      <td>2021-12-14</td>\n",
       "    </tr>\n",
       "    <tr>\n",
       "      <th>13</th>\n",
       "      <td>20</td>\n",
       "      <td>KAN</td>\n",
       "      <td>Sofa</td>\n",
       "      <td>Flight</td>\n",
       "      <td>India</td>\n",
       "      <td>U.S.A</td>\n",
       "      <td>2021-12-18</td>\n",
       "      <td>2021-12-14</td>\n",
       "    </tr>\n",
       "    <tr>\n",
       "      <th>14</th>\n",
       "      <td>21</td>\n",
       "      <td>KAN</td>\n",
       "      <td>Table</td>\n",
       "      <td>Ship</td>\n",
       "      <td>Canada</td>\n",
       "      <td>U.S.A</td>\n",
       "      <td>2021-12-17</td>\n",
       "      <td>2021-12-14</td>\n",
       "    </tr>\n",
       "    <tr>\n",
       "      <th>15</th>\n",
       "      <td>22</td>\n",
       "      <td>TIG</td>\n",
       "      <td>Xerox machine</td>\n",
       "      <td>Truck</td>\n",
       "      <td>Canada</td>\n",
       "      <td>India</td>\n",
       "      <td>2021-12-20</td>\n",
       "      <td>2021-12-14</td>\n",
       "    </tr>\n",
       "    <tr>\n",
       "      <th>16</th>\n",
       "      <td>23</td>\n",
       "      <td>TIG</td>\n",
       "      <td>Xerox machine</td>\n",
       "      <td>Truck</td>\n",
       "      <td>India</td>\n",
       "      <td>U.S.A</td>\n",
       "      <td>2021-12-22</td>\n",
       "      <td>2021-12-14</td>\n",
       "    </tr>\n",
       "  </tbody>\n",
       "</table>\n",
       "</div>"
      ],
      "text/plain": [
       "    order_id user_name        product shipment pick_location dest_location  \\\n",
       "0          7    kardia          table     ship         China        Canada   \n",
       "1          8    kardia           Sofa    Train         U.S.A        Canada   \n",
       "2          9     xiong          Table     Ship         India         China   \n",
       "3         10     xiong           Sofa    Truck         China         China   \n",
       "4         11     xiong  Xerox machine     Ship         U.S.A         U.S.A   \n",
       "5         12     xiong           Sofa     Ship         U.S.A         U.S.A   \n",
       "6         13     xiong          Table   Flight        Canada        Canada   \n",
       "7         14       tan          Table   Flight        Canada        Canada   \n",
       "8         15       tan  Xerox machine     Ship         U.S.A         U.S.A   \n",
       "9         16      tan1          Table   Flight        Canada        Canada   \n",
       "10        17     xiong  Xerox machine     Ship         U.S.A         U.S.A   \n",
       "11        18       KAN          Table   Flight        Canada         U.S.A   \n",
       "12        19       KAN  Xerox machine     Ship         China         U.S.A   \n",
       "13        20       KAN           Sofa   Flight         India         U.S.A   \n",
       "14        21       KAN          Table     Ship        Canada         U.S.A   \n",
       "15        22       TIG  Xerox machine    Truck        Canada         India   \n",
       "16        23       TIG  Xerox machine    Truck         India         U.S.A   \n",
       "\n",
       "     ship_date create_date  \n",
       "0   2021-12-19  2021-12-14  \n",
       "1   2021-12-19  2021-12-14  \n",
       "2   2021-12-24  2021-12-14  \n",
       "3   2021-12-14  2021-12-14  \n",
       "4   2021-12-14  2021-12-14  \n",
       "5   2021-12-16  2021-12-14  \n",
       "6   2021-12-15  2021-12-14  \n",
       "7   2021-12-15  2021-12-14  \n",
       "8   2021-12-16  2021-12-14  \n",
       "9   2021-12-15  2021-12-14  \n",
       "10  2021-12-16  2021-12-14  \n",
       "11  2021-12-20  2021-12-14  \n",
       "12  2021-12-20  2021-12-14  \n",
       "13  2021-12-18  2021-12-14  \n",
       "14  2021-12-17  2021-12-14  \n",
       "15  2021-12-20  2021-12-14  \n",
       "16  2021-12-22  2021-12-14  "
      ]
     },
     "execution_count": 4,
     "metadata": {},
     "output_type": "execute_result"
    }
   ],
   "source": [
    "orders_df"
   ]
  },
  {
   "cell_type": "markdown",
   "metadata": {},
   "source": [
    "### 1.Most pick-dest route"
   ]
  },
  {
   "cell_type": "code",
   "execution_count": 5,
   "metadata": {},
   "outputs": [
    {
     "data": {
      "text/plain": [
       "pick_location  dest_location\n",
       "U.S.A          U.S.A            4\n",
       "Canada         Canada           3\n",
       "               U.S.A            2\n",
       "India          U.S.A            2\n",
       "Canada         India            1\n",
       "China          Canada           1\n",
       "               China            1\n",
       "               U.S.A            1\n",
       "India          China            1\n",
       "U.S.A          Canada           1\n",
       "Name: order_id, dtype: int64"
      ]
     },
     "execution_count": 5,
     "metadata": {},
     "output_type": "execute_result"
    }
   ],
   "source": [
    "orders_df.groupby(['pick_location','dest_location'])['order_id'].count().sort_values(ascending=False)"
   ]
  },
  {
   "cell_type": "markdown",
   "metadata": {},
   "source": [
    "### 2.Most shipment method"
   ]
  },
  {
   "cell_type": "code",
   "execution_count": 6,
   "metadata": {},
   "outputs": [
    {
     "data": {
      "text/plain": [
       "shipment\n",
       "Ship      7\n",
       "Flight    5\n",
       "Truck     3\n",
       "Train     1\n",
       "ship      1\n",
       "Name: order_id, dtype: int64"
      ]
     },
     "execution_count": 6,
     "metadata": {},
     "output_type": "execute_result"
    }
   ],
   "source": [
    "orders_df.groupby('shipment')['order_id'].count().sort_values(ascending=False)"
   ]
  },
  {
   "cell_type": "markdown",
   "metadata": {},
   "source": [
    "### 3.Most favourite product"
   ]
  },
  {
   "cell_type": "code",
   "execution_count": null,
   "metadata": {},
   "outputs": [
    {
     "data": {
      "text/plain": [
       "product\n",
       "Table            4\n",
       "Sofa             3\n",
       "Xerox machine    3\n",
       "table            1\n",
       "Name: order_id, dtype: int64"
      ]
     },
     "execution_count": 33,
     "metadata": {},
     "output_type": "execute_result"
    }
   ],
   "source": [
    "orders_df.groupby('product')['order_id'].count().sort_values(ascending=False)"
   ]
  },
  {
   "cell_type": "code",
   "execution_count": null,
   "metadata": {},
   "outputs": [],
   "source": []
  }
 ],
 "metadata": {
  "kernelspec": {
   "display_name": "Python 3.7.9 64-bit ('py37': conda)",
   "metadata": {
    "interpreter": {
     "hash": "84d6e41e790046d1cd8ba2cb1e7a0bd44f2946ac5d32699e44788889562fa122"
    }
   },
   "name": "python3"
  },
  "language_info": {
   "codemirror_mode": {
    "name": "ipython",
    "version": 3
   },
   "file_extension": ".py",
   "mimetype": "text/x-python",
   "name": "python",
   "nbconvert_exporter": "python",
   "pygments_lexer": "ipython3",
   "version": "3.8.11"
  },
  "orig_nbformat": 2
 },
 "nbformat": 4,
 "nbformat_minor": 2
}
